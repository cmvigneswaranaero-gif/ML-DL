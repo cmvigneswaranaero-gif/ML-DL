{
  "nbformat": 4,
  "nbformat_minor": 0,
  "metadata": {
    "colab": {
      "provenance": [],
      "include_colab_link": true
    },
    "kernelspec": {
      "name": "python3",
      "display_name": "Python 3"
    }
  },
  "cells": [
    {
      "cell_type": "markdown",
      "metadata": {
        "id": "view-in-github",
        "colab_type": "text"
      },
      "source": [
        "<a href=\"https://colab.research.google.com/github/cmvigneswaranaero-gif/ML-DL/blob/main/Decision_Trees_Code.ipynb\" target=\"_parent\"><img src=\"https://colab.research.google.com/assets/colab-badge.svg\" alt=\"Open In Colab\"/></a>"
      ]
    },
    {
      "cell_type": "markdown",
      "metadata": {
        "id": "mp1RswHZfTAG"
      },
      "source": [
        "# Entropy calculation"
      ]
    },
    {
      "cell_type": "code",
      "metadata": {
        "id": "wyeqTdgbfYRK",
        "colab": {
          "base_uri": "https://localhost:8080/"
        },
        "outputId": "65a75264-516a-44e6-9829-66ddfccbb914"
      },
      "source": [
        "#p1=0.5 and p2=0.5\n",
        "import math\n",
        "entropy=-0.5*math.log2(0.5) -0.5*math.log2(0.5)\n",
        "print(\"Entropy for 50%-50% case ==>\", entropy)"
      ],
      "execution_count": 19,
      "outputs": [
        {
          "output_type": "stream",
          "name": "stdout",
          "text": [
            "Entropy for 50%-50% case ==> 1.0\n"
          ]
        }
      ]
    },
    {
      "cell_type": "code",
      "metadata": {
        "id": "3o8fAgAOf9J6",
        "colab": {
          "base_uri": "https://localhost:8080/"
        },
        "outputId": "8bdfac68-5a3b-4be9-aa39-ab6e4dcd5296"
      },
      "source": [
        "entropy=-0.0001*math.log2(0.0001) -0.9999*math.log2(0.9999)\n",
        "print(\"Entropy for 0%-100% case ==>\", entropy)"
      ],
      "execution_count": 20,
      "outputs": [
        {
          "output_type": "stream",
          "name": "stdout",
          "text": [
            "Entropy for 0%-100% case ==> 0.0014730335283281598\n"
          ]
        }
      ]
    },
    {
      "cell_type": "code",
      "metadata": {
        "id": "sLuUsE8_gu_j",
        "colab": {
          "base_uri": "https://localhost:8080/"
        },
        "outputId": "df23fa81-69a4-499b-971f-f7fcb6158225"
      },
      "source": [
        "import math\n",
        "entropy=-0.45*math.log2(0.45) -0.55*math.log2(0.55)\n",
        "print(\"Entropy for 45%-55% case ==>\", entropy)\n",
        "\n",
        "entropy=-0.05*math.log2(0.05) -0.95*math.log2(0.95)\n",
        "print(\"Entropy for 5%-95% case ==>\", entropy)"
      ],
      "execution_count": 21,
      "outputs": [
        {
          "output_type": "stream",
          "name": "stdout",
          "text": [
            "Entropy for 45%-55% case ==> 0.9927744539878083\n",
            "Entropy for 5%-95% case ==> 0.28639695711595625\n"
          ]
        }
      ]
    },
    {
      "cell_type": "markdown",
      "metadata": {
        "id": "Ejk-aqHDgTgN"
      },
      "source": [
        "# Data Importing"
      ]
    },
    {
      "cell_type": "code",
      "metadata": {
        "id": "chkXqN2fgcx9",
        "colab": {
          "base_uri": "https://localhost:8080/"
        },
        "outputId": "91697143-bc16-4576-caa9-241794e8c244"
      },
      "source": [
        "#Import Data\n",
        "import pandas as pd\n",
        "\n",
        "Ecom_data = pd.read_csv(\"https://raw.githubusercontent.com/cmvigneswaranaero-gif/ML-DL/refs/heads/main/decision_tree_Ecom_Cust_Survey_v1.csv\")\n",
        "\n",
        "Ecom_data.info()"
      ],
      "execution_count": 22,
      "outputs": [
        {
          "output_type": "stream",
          "name": "stdout",
          "text": [
            "<class 'pandas.core.frame.DataFrame'>\n",
            "RangeIndex: 11805 entries, 0 to 11804\n",
            "Data columns (total 6 columns):\n",
            " #   Column                Non-Null Count  Dtype \n",
            "---  ------                --------------  ----- \n",
            " 0   Cust_num              11805 non-null  int64 \n",
            " 1   Region                11805 non-null  int64 \n",
            " 2   Age                   11805 non-null  int64 \n",
            " 3   Order_Quantity        11805 non-null  int64 \n",
            " 4   Customer_Type         11805 non-null  object\n",
            " 5   Overall_Satisfaction  11805 non-null  object\n",
            "dtypes: int64(4), object(2)\n",
            "memory usage: 553.5+ KB\n"
          ]
        }
      ]
    },
    {
      "cell_type": "code",
      "metadata": {
        "id": "oE-pLGnmiG0F",
        "colab": {
          "base_uri": "https://localhost:8080/",
          "height": 178
        },
        "outputId": "d689311b-6884-4790-8548-3dbbd15547f4"
      },
      "source": [
        "Ecom_data['Overall_Satisfaction'].value_counts()"
      ],
      "execution_count": null,
      "outputs": [
        {
          "output_type": "execute_result",
          "data": {
            "text/plain": [
              "Overall_Satisfaction\n",
              "Dis Satisfied    6408\n",
              "Satisfied        5397\n",
              "Name: count, dtype: int64"
            ],
            "text/html": [
              "<div>\n",
              "<style scoped>\n",
              "    .dataframe tbody tr th:only-of-type {\n",
              "        vertical-align: middle;\n",
              "    }\n",
              "\n",
              "    .dataframe tbody tr th {\n",
              "        vertical-align: top;\n",
              "    }\n",
              "\n",
              "    .dataframe thead th {\n",
              "        text-align: right;\n",
              "    }\n",
              "</style>\n",
              "<table border=\"1\" class=\"dataframe\">\n",
              "  <thead>\n",
              "    <tr style=\"text-align: right;\">\n",
              "      <th></th>\n",
              "      <th>count</th>\n",
              "    </tr>\n",
              "    <tr>\n",
              "      <th>Overall_Satisfaction</th>\n",
              "      <th></th>\n",
              "    </tr>\n",
              "  </thead>\n",
              "  <tbody>\n",
              "    <tr>\n",
              "      <th>Dis Satisfied</th>\n",
              "      <td>6408</td>\n",
              "    </tr>\n",
              "    <tr>\n",
              "      <th>Satisfied</th>\n",
              "      <td>5397</td>\n",
              "    </tr>\n",
              "  </tbody>\n",
              "</table>\n",
              "</div><br><label><b>dtype:</b> int64</label>"
            ]
          },
          "metadata": {},
          "execution_count": 5
        }
      ]
    },
    {
      "cell_type": "markdown",
      "metadata": {
        "id": "xf1DfubCiOmL"
      },
      "source": [
        "# Convert Non-numerical Data into numerical"
      ]
    },
    {
      "cell_type": "code",
      "metadata": {
        "id": "G37MYRZziL8a",
        "colab": {
          "base_uri": "https://localhost:8080/"
        },
        "outputId": "aa945e74-c9cf-4b90-81d6-4bcc0f873823"
      },
      "source": [
        "Ecom_data['Customer_Type_num'] = Ecom_data['Customer_Type'].map({'Prime': 1, 'Non_Prime': 0}).astype(int)\n",
        "print(Ecom_data['Customer_Type'].value_counts())\n",
        "print(Ecom_data['Customer_Type_num'].value_counts())"
      ],
      "execution_count": 25,
      "outputs": [
        {
          "output_type": "stream",
          "name": "stdout",
          "text": [
            "Customer_Type\n",
            "Prime        6804\n",
            "Non_Prime    5001\n",
            "Name: count, dtype: int64\n",
            "Customer_Type_num\n",
            "1    6804\n",
            "0    5001\n",
            "Name: count, dtype: int64\n"
          ]
        }
      ]
    },
    {
      "cell_type": "code",
      "metadata": {
        "id": "ehOZaYYeiw0t",
        "colab": {
          "base_uri": "https://localhost:8080/"
        },
        "outputId": "fe5c9a2b-e296-4332-a29f-541ecdcaff24"
      },
      "source": [
        "Ecom_data['Overall_Satisfaction_num'] = Ecom_data['Overall_Satisfaction'].map( {'Dis Satisfied': 0, 'Satisfied': 1} ).astype(int).astype(int)\n",
        "print(Ecom_data['Overall_Satisfaction'].value_counts())\n",
        "print(Ecom_data['Overall_Satisfaction_num'].value_counts())"
      ],
      "execution_count": 24,
      "outputs": [
        {
          "output_type": "stream",
          "name": "stdout",
          "text": [
            "Overall_Satisfaction\n",
            "Dis Satisfied    6408\n",
            "Satisfied        5397\n",
            "Name: count, dtype: int64\n",
            "Overall_Satisfaction_num\n",
            "0    6408\n",
            "1    5397\n",
            "Name: count, dtype: int64\n"
          ]
        }
      ]
    },
    {
      "cell_type": "code",
      "metadata": {
        "id": "kTM-tvA2jTRy"
      },
      "source": [
        "Ecom_data.columns"
      ],
      "execution_count": null,
      "outputs": []
    },
    {
      "cell_type": "markdown",
      "metadata": {
        "id": "6iRhU3CSjHny"
      },
      "source": [
        "# Decision Tree Model Building"
      ]
    },
    {
      "cell_type": "code",
      "metadata": {
        "id": "fvnIu7fdjF08",
        "colab": {
          "base_uri": "https://localhost:8080/"
        },
        "outputId": "2fa439b1-88ce-44bf-acdb-12cf735a03c8"
      },
      "source": [
        "from sklearn import tree\n",
        "\n",
        "features= ['Region', 'Age', 'Order_Quantity',  'Customer_Type_num']\n",
        "print(\"Features\",features)\n",
        "\n",
        "X = Ecom_data[features]\n",
        "print(\"X shape\", X.shape)\n",
        "y = Ecom_data['Overall_Satisfaction']\n",
        "print(\"Y shape\", y.shape)"
      ],
      "execution_count": 26,
      "outputs": [
        {
          "output_type": "stream",
          "name": "stdout",
          "text": [
            "Features ['Region', 'Age', 'Order_Quantity', 'Customer_Type_num']\n",
            "X shape (11805, 4)\n",
            "Y shape (11805,)\n"
          ]
        }
      ]
    },
    {
      "cell_type": "code",
      "metadata": {
        "id": "qgM_F_mPjzLc",
        "colab": {
          "base_uri": "https://localhost:8080/",
          "height": 777
        },
        "outputId": "1ecd5da5-0289-4ef3-c5a6-d715a7d19494"
      },
      "source": [
        "#Building Tree Model\n",
        "\n",
        "\n",
        "##Plotting the trees\n",
        "import matplotlib.pyplot as plt\n",
        "from sklearn.tree import plot_tree, export_text\n",
        "plt.figure(figsize=(15,7))\n",
        "plot_tree(DTree, filled=True,\n",
        "                     rounded=True,\n",
        "                     impurity=False,\n",
        "                     feature_names = features)\n",
        "print( export_text(DTree, feature_names = features))\n"
      ],
      "execution_count": 49,
      "outputs": [
        {
          "output_type": "stream",
          "name": "stdout",
          "text": [
            "|--- Order_Quantity <= 40.50\n",
            "|   |--- Age <= 29.50\n",
            "|   |   |--- class: Satisfied\n",
            "|   |--- Age >  29.50\n",
            "|   |   |--- class: Dis Satisfied\n",
            "|--- Order_Quantity >  40.50\n",
            "|   |--- Age <= 20.50\n",
            "|   |   |--- class: Satisfied\n",
            "|   |--- Age >  20.50\n",
            "|   |   |--- class: Satisfied\n",
            "\n"
          ]
        },
        {
          "output_type": "display_data",
          "data": {
            "text/plain": [
              "<Figure size 1500x700 with 1 Axes>"
            ],
            "image/png": "[encoded data removed]"
          },
          "metadata": {}
        }
      ]
    },
    {
      "cell_type": "code",
      "source": [
        "# this code for ploting tree with only dtree command\n",
        "DTree = tree.DecisionTreeClassifier(max_depth=2)\n",
        "DTree.fit(X, y)\n",
        "##Plotting the trees\n",
        "\n",
        "plot_tree(DTree)"
      ],
      "metadata": {
        "id": "4Jlwxs4t-e_b"
      },
      "execution_count": null,
      "outputs": []
    },
    {
      "cell_type": "code",
      "source": [
        "# this code for plooting tre without gini\n",
        "DTree = tree.DecisionTreeClassifier(criterion=\"entropy\", max_depth=2)\n",
        "DTree.fit(X, y)\n",
        "##Plotting the trees\n",
        "\n",
        "plot_tree(DTree)"
      ],
      "metadata": {
        "id": "ttyhYuCC72yM"
      },
      "execution_count": null,
      "outputs": []
    },
    {
      "cell_type": "markdown",
      "metadata": {
        "id": "Hl0rWet5klRf"
      },
      "source": [
        "# Tree Validation"
      ]
    },
    {
      "cell_type": "code",
      "metadata": {
        "id": "ZBJxkWGokQfF",
        "colab": {
          "base_uri": "https://localhost:8080/"
        },
        "outputId": "7d02f356-43e7-438b-ef83-97754593f5c0"
      },
      "source": [
        "##########Tree Validation\n",
        "#Tree Validation\n",
        "predict1 = DTree.predict(X)\n",
        "\n",
        "from sklearn.metrics import confusion_matrix ###for using confusion matrix###\n",
        "cm = confusion_matrix(y, predict1)\n",
        "print (cm)\n",
        "\n",
        "\n",
        "total = sum(sum(cm))\n",
        "#####from confusion matrix calculate accuracy\n",
        "accuracy = (cm[0,0]+cm[1,1])/total\n",
        "print(accuracy)\n",
        "\n",
        "\n",
        "# instead of doing this in manual way, we can predict directly accuracy score\n",
        "print(\"\\nTraining Accuracy:\", accuracy_score(y, predict1))"
      ],
      "execution_count": 58,
      "outputs": [
        {
          "output_type": "stream",
          "name": "stdout",
          "text": [
            "[[6370   38]\n",
            " [ 648 4749]]\n",
            "0.9418890300720034\n",
            "\n",
            "Training Accuracy: 0.9418890300720034\n"
          ]
        }
      ]
    },
    {
      "cell_type": "code",
      "source": [
        "# cant belive this validation so train and test data\n",
        "#if train and test accuracy are same ..good..or if train more and test less\n",
        "# overfiting\n",
        "# --------------------------\n",
        "# 1. Train-Test Split (80%-20%)\n",
        "# --------------------------\n",
        "X_train, X_test, y_train, y_test = train_test_split(\n",
        "    X, y, test_size=0.2, random_state=42)\n",
        "\n",
        "# --------------------------\n",
        "# 2. Build & Train Decision Tree\n",
        "# --------------------------\n",
        "DTree = tree.DecisionTreeClassifier(max_depth=3, random_state=42)\n",
        "DTree.fit(X_train, y_train)\n",
        "\n",
        "# --------------------------\n",
        "# 3. Predictions for Train & Test\n",
        "# --------------------------\n",
        "y_train_pred = DTree.predict(X_train)\n",
        "y_test_pred = DTree.predict(X_test)\n",
        "\n",
        "# --------------------------\n",
        "# 4. Confusion Matrix for Training Data\n",
        "# --------------------------\n",
        "cm_train = confusion_matrix(y_train, y_train_pred)\n",
        "print(\"\\nTraining Confusion Matrix:\\n\", cm_train)\n",
        "\n",
        "# --------------------------\n",
        "# 5. Confusion Matrix for Testing Data\n",
        "# --------------------------\n",
        "cm_test = confusion_matrix(y_test, y_test_pred)\n",
        "print(\"\\nTesting Confusion Matrix:\\n\", cm_test)\n",
        "\n",
        "# --------------------------\n",
        "# 6. Accuracy & Reports\n",
        "# --------------------------\n",
        "print(\"\\nTraining Accuracy:\", accuracy_score(y_train, y_train_pred))\n",
        "print(\"Testing Accuracy:\", accuracy_score(y_test, y_test_pred))\n",
        "\n"
      ],
      "metadata": {
        "colab": {
          "base_uri": "https://localhost:8080/"
        },
        "id": "jiT6LonQDAox",
        "outputId": "4a8092b9-ad25-4007-a7c0-f987be3ffc75"
      },
      "execution_count": 60,
      "outputs": [
        {
          "output_type": "stream",
          "name": "stdout",
          "text": [
            "\n",
            "Training Confusion Matrix:\n",
            " [[5096   35]\n",
            " [ 526 3787]]\n",
            "\n",
            "Testing Confusion Matrix:\n",
            " [[1274    3]\n",
            " [ 122  962]]\n",
            "\n",
            "Training Accuracy: 0.9405972045743329\n",
            "Testing Accuracy: 0.9470563320626854\n"
          ]
        }
      ]
    },
    {
      "cell_type": "markdown",
      "metadata": {
        "id": "Z4QyrRiak8Ib"
      },
      "source": [
        "# The problem of overfitting"
      ]
    },
    {
      "cell_type": "code",
      "source": [
        "# change max depth\n",
        "# 1. Train-Test Split (80%-20%)\n",
        "# --------------------------\n",
        "X_train, X_test, y_train, y_test = train_test_split(\n",
        "    X, y, test_size=0.2, random_state=42)\n",
        "\n",
        "# --------------------------\n",
        "# 2. Build & Train Decision Tree\n",
        "# --------------------------\n",
        "DTree = tree.DecisionTreeClassifier(max_depth=3000, random_state=42)\n",
        "DTree.fit(X_train, y_train)\n",
        "\n",
        "# --------------------------\n",
        "# 3. Predictions for Train & Test\n",
        "# --------------------------\n",
        "y_train_pred = DTree.predict(X_train)\n",
        "y_test_pred = DTree.predict(X_test)\n",
        "\n",
        "# --------------------------\n",
        "# 4. Confusion Matrix for Training Data\n",
        "# --------------------------\n",
        "cm_train = confusion_matrix(y_train, y_train_pred)\n",
        "print(\"\\nTraining Confusion Matrix:\\n\", cm_train)\n",
        "\n",
        "# --------------------------\n",
        "# 5. Confusion Matrix for Testing Data\n",
        "# --------------------------\n",
        "cm_test = confusion_matrix(y_test, y_test_pred)\n",
        "print(\"\\nTesting Confusion Matrix:\\n\", cm_test)\n",
        "\n",
        "# --------------------------\n",
        "# 6. Accuracy & Reports\n",
        "# --------------------------\n",
        "print(\"\\nTraining Accuracy:\", accuracy_score(y_train, y_train_pred))\n",
        "print(\"Testing Accuracy:\", accuracy_score(y_test, y_test_pred))"
      ],
      "metadata": {
        "colab": {
          "base_uri": "https://localhost:8080/"
        },
        "id": "Hf7rcUFaF5Cj",
        "outputId": "ae405475-e73b-48b1-b59d-1006bdb8153b"
      },
      "execution_count": 65,
      "outputs": [
        {
          "output_type": "stream",
          "name": "stdout",
          "text": [
            "\n",
            "Training Confusion Matrix:\n",
            " [[5096   35]\n",
            " [ 221 4092]]\n",
            "\n",
            "Testing Confusion Matrix:\n",
            " [[1214   63]\n",
            " [  99  985]]\n",
            "\n",
            "Training Accuracy: 0.9728928420160948\n",
            "Testing Accuracy: 0.9313850063532402\n"
          ]
        }
      ]
    },
    {
      "cell_type": "markdown",
      "source": [
        "***example 2 for overfitting***\n",
        "\n"
      ],
      "metadata": {
        "id": "hsz4RLOzGWAz"
      }
    },
    {
      "cell_type": "code",
      "metadata": {
        "id": "oUO4heVNk6fj",
        "colab": {
          "base_uri": "https://localhost:8080/"
        },
        "outputId": "e25900fc-b74f-4c49-ec63-b34ccb139267"
      },
      "source": [
        "#Datasets: Diabetes\n",
        "#Import both test and training data\n",
        "\n",
        "train = pd.read_csv(\"https://raw.githubusercontent.com/venkatareddykonasani/Datasets/master/pima/diabetes_train.csv\")\n",
        "test = pd.read_csv(\"https://raw.githubusercontent.com/venkatareddykonasani/Datasets/master/pima/diabetes_test.csv\")\n",
        "\n",
        "print(train.sample(5))"
      ],
      "execution_count": null,
      "outputs": [
        {
          "output_type": "stream",
          "name": "stdout",
          "text": [
            "     Count_Pregnancies  Glucose_level  BP  SkinThickness_index  Insulin_level  \\\n",
            "312                  4             99  76                   15             51   \n",
            "595                  0            100  88                   60            110   \n",
            "485                  2             93  64                   32            160   \n",
            "492                  1            102  74                    0              0   \n",
            "322                  1            111  62                   13            182   \n",
            "\n",
            "      BMI  DiabetesPedigreeFunction  Age  Diabetes_outcome  \n",
            "312  23.2                     0.223   21                 0  \n",
            "595  46.8                     0.962   31                 0  \n",
            "485  38.0                     0.674   23                 1  \n",
            "492  39.5                     0.293   42                 1  \n",
            "322  24.0                     0.138   23                 0  \n"
          ]
        }
      ]
    },
    {
      "cell_type": "code",
      "metadata": {
        "id": "3Ji32sDklZXf"
      },
      "source": [
        "from sklearn import tree\n",
        "\n",
        "#Defining Features and lables\n",
        "features=['Count_Pregnancies', 'Glucose_level', 'BP', 'SkinThickness_index',\n",
        "          'Insulin_level', 'BMI', 'DiabetesPedigreeFunction', 'Age']\n",
        "\n",
        "X_train = train[features]\n",
        "y_train = train['Diabetes_outcome']\n",
        "\n",
        "#X_train\n",
        "\n",
        "X_test = test[features]\n",
        "y_test = test['Diabetes_outcome']"
      ],
      "execution_count": null,
      "outputs": []
    },
    {
      "cell_type": "code",
      "metadata": {
        "id": "yzhMDwHWllJn",
        "colab": {
          "base_uri": "https://localhost:8080/"
        },
        "outputId": "b0d10dc1-d2a0-4789-c90a-6b3fe3f9b5f2"
      },
      "source": [
        "#training Tree Model\n",
        "clf = tree.DecisionTreeClassifier() # this automatically take infinity\n",
        "clf.fit(X_train,y_train)\n",
        "\n",
        "predict1 = clf.predict(X_train)\n",
        "predict2 = clf.predict(X_test)\n",
        "\n",
        "#On Train Data\n",
        "cm1 = confusion_matrix(y_train,predict1)\n",
        "print(\"\\nTraining Confusion Matrix:\\n\", cm1)\n",
        "print(\"\\nTraining Accuracy:\", accuracy_score(y_train,predict1))\n",
        "\n",
        "#On Test Data\n",
        "cm2 = confusion_matrix(y_test,predict2)\n",
        "print(\"\\nTesting Confusion Matrix:\\n\", cm2)\n",
        "print(\"Testing Accuracy:\", accuracy_score(y_test,predict2))"
      ],
      "execution_count": 70,
      "outputs": [
        {
          "output_type": "stream",
          "name": "stdout",
          "text": [
            "\n",
            "Training Confusion Matrix:\n",
            " [[5096   35]\n",
            " [ 221 4092]]\n",
            "\n",
            "Training Accuracy: 0.9728928420160948\n",
            "\n",
            "Testing Confusion Matrix:\n",
            " [[1214   63]\n",
            " [  97  987]]\n",
            "Testing Accuracy: 0.9322321050402372\n"
          ]
        }
      ]
    },
    {
      "cell_type": "markdown",
      "metadata": {
        "id": "NdKqBtOemAXb"
      },
      "source": [
        "# Pruning"
      ]
    },
    {
      "cell_type": "markdown",
      "source": [
        "## max_leaf_nodes - Finetuning"
      ],
      "metadata": {
        "id": "clQde5lNMGFS"
      }
    },
    {
      "cell_type": "code",
      "metadata": {
        "id": "-hPkGlEEl5oW",
        "colab": {
          "base_uri": "https://localhost:8080/"
        },
        "outputId": "87a8cd4e-8e5f-4ab7-cbd5-b07d2f7399d9"
      },
      "source": [
        "#training Tree Model\n",
        "clf = tree.DecisionTreeClassifier(max_leaf_nodes = 3000)\n",
        "clf.fit(X_train,y_train)\n",
        "\n",
        "predict1 = clf.predict(X_train)\n",
        "predict2 = clf.predict(X_test)\n",
        "\n",
        "#On Train Data\n",
        "cm1 = confusion_matrix(y_train,predict1)\n",
        "print(\"\\nTraining Confusion Matrix:\\n\", cm1)\n",
        "print(\"\\nTraining Accuracy:\", accuracy_score(y_train,predict1))\n",
        "\n",
        "#On Test Data\n",
        "cm2 = confusion_matrix(y_test,predict2)\n",
        "print(\"\\nTesting Confusion Matrix:\\n\", cm2)\n",
        "print(\"Testing Accuracy:\", accuracy_score(y_test,predict2))"
      ],
      "execution_count": 71,
      "outputs": [
        {
          "output_type": "stream",
          "name": "stdout",
          "text": [
            "\n",
            "Training Confusion Matrix:\n",
            " [[5096   35]\n",
            " [ 221 4092]]\n",
            "\n",
            "Training Accuracy: 0.9728928420160948\n",
            "\n",
            "Testing Confusion Matrix:\n",
            " [[1214   63]\n",
            " [  99  985]]\n",
            "Testing Accuracy: 0.9313850063532402\n"
          ]
        }
      ]
    },
    {
      "cell_type": "code",
      "source": [
        "#training Tree Model\n",
        "clf = tree.DecisionTreeClassifier(max_leaf_nodes = 30)\n",
        "clf.fit(X_train,y_train)\n",
        "\n",
        "predict1 = clf.predict(X_train)\n",
        "predict2 = clf.predict(X_test)\n",
        "\n",
        "#On Train Data\n",
        "cm1 = confusion_matrix(y_train,predict1)\n",
        "print(\"\\nTraining Confusion Matrix:\\n\", cm1)\n",
        "print(\"\\nTraining Accuracy:\", accuracy_score(y_train,predict1))\n",
        "\n",
        "#On Test Data\n",
        "cm2 = confusion_matrix(y_test,predict2)\n",
        "print(\"\\nTesting Confusion Matrix:\\n\", cm2)\n",
        "print(\"Testing Accuracy:\", accuracy_score(y_test,predict2))"
      ],
      "metadata": {
        "colab": {
          "base_uri": "https://localhost:8080/"
        },
        "id": "RrN4vlLrAbLU",
        "outputId": "89ac9eb3-b4eb-4d82-be0a-17497bb60bd4"
      },
      "execution_count": 72,
      "outputs": [
        {
          "output_type": "stream",
          "name": "stdout",
          "text": [
            "\n",
            "Training Confusion Matrix:\n",
            " [[4932  199]\n",
            " [ 292 4021]]\n",
            "\n",
            "Training Accuracy: 0.948009318085557\n",
            "\n",
            "Testing Confusion Matrix:\n",
            " [[1240   37]\n",
            " [  63 1021]]\n",
            "Testing Accuracy: 0.9576450656501483\n"
          ]
        }
      ]
    },
    {
      "cell_type": "code",
      "source": [
        "#training Tree Model\n",
        "clf = tree.DecisionTreeClassifier(max_leaf_nodes = 10)\n",
        "clf.fit(X_train,y_train)\n",
        "\n",
        "predict1 = clf.predict(X_train)\n",
        "predict2 = clf.predict(X_test)\n",
        "\n",
        "#On Train Data\n",
        "cm1 = confusion_matrix(y_train,predict1)\n",
        "print(\"\\nTraining Confusion Matrix:\\n\", cm1)\n",
        "print(\"\\nTraining Accuracy:\", accuracy_score(y_train,predict1))\n",
        "\n",
        "#On Test Data\n",
        "cm2 = confusion_matrix(y_test,predict2)\n",
        "print(\"\\nTesting Confusion Matrix:\\n\", cm2)\n",
        "print(\"Testing Accuracy:\", accuracy_score(y_test,predict2))"
      ],
      "metadata": {
        "id": "AzujlnHJMMOD",
        "colab": {
          "base_uri": "https://localhost:8080/"
        },
        "outputId": "26713846-42b1-48a6-af98-5bcc16fbfce9"
      },
      "execution_count": 73,
      "outputs": [
        {
          "output_type": "stream",
          "name": "stdout",
          "text": [
            "\n",
            "Training Confusion Matrix:\n",
            " [[4962  169]\n",
            " [ 355 3958]]\n",
            "\n",
            "Training Accuracy: 0.9445150360016942\n",
            "\n",
            "Testing Confusion Matrix:\n",
            " [[1249   28]\n",
            " [  78 1006]]\n",
            "Testing Accuracy: 0.9551037695891571\n"
          ]
        }
      ]
    }
  ]
}